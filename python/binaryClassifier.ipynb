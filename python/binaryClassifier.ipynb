{
 "cells": [
  {
   "cell_type": "code",
   "execution_count": 1,
   "metadata": {
    "_cell_guid": "b1076dfc-b9ad-4769-8c92-a6c4dae69d19",
    "_uuid": "8f2839f25d086af736a60e9eeb907d3b93b6e0e5"
   },
   "outputs": [
    {
     "name": "stdout",
     "output_type": "stream",
     "text": [
      "/kaggle/input/brighton-a-memorable-city/sample_valid_submission.csv\n",
      "/kaggle/input/brighton-a-memorable-city/training.csv\n",
      "/kaggle/input/brighton-a-memorable-city/testing.csv\n",
      "/kaggle/input/brighton-a-memorable-city/additional_training.csv\n",
      "/kaggle/input/brighton-a-memorable-city/annotation_confidence.csv\n",
      "/kaggle/input/brighton-a-memorable-city/test_proportions.csv\n"
     ]
    }
   ],
   "source": [
    "# This Python 3 environment comes with many helpful analytics libraries installed\n",
    "# It is defined by the kaggle/python Docker image: https://github.com/kaggle/docker-python\n",
    "# For example, here's several helpful packages to load\n",
    "\n",
    "import numpy as np # linear algebra\n",
    "import pandas as pd # data processing, CSV file I/O (e.g. pd.read_csv)\n",
    "\n",
    "# Input data files are available in the read-only \"../input/\" directory\n",
    "# For example, running this (by clicking run or pressing Shift+Enter) will list all files under the input directory\n",
    "\n",
    "import os\n",
    "for dirname, _, filenames in os.walk('/kaggle/input'):\n",
    "    for filename in filenames:\n",
    "        print(os.path.join(dirname, filename))\n",
    "\n",
    "# You can write up to 5GB to the current directory (/kaggle/working/) that gets preserved as output when you create a version using \"Save & Run All\" \n",
    "# You can also write temporary files to /kaggle/temp/, but they won't be saved outside of the current session"
   ]
  },
  {
   "cell_type": "code",
   "execution_count": 9,
   "metadata": {
    "_cell_guid": "79c7e3d0-c299-4dcb-8224-4455121ee9b0",
    "_uuid": "d629ff2d2480ee46fbb7e2d37f6b5fab8052498a"
   },
   "outputs": [],
   "source": [
    "## Training data\n",
    "\n",
    "# Get the data from training.csv\n",
    "dataset = pd.read_csv('/kaggle/input/brighton-a-memorable-city/training.csv')\n",
    "# Extract the predictions of the images\n",
    "_y = dataset['prediction']\n",
    "# Remove the ID and predictions \n",
    "_X = dataset.iloc[:247, 1:4609]"
   ]
  },
  {
   "cell_type": "code",
   "execution_count": 3,
   "metadata": {},
   "outputs": [],
   "source": [
    "from sklearn.impute import KNNImputer\n",
    "\n",
    "## Extra training data\n",
    "\n",
    "#Get the data from additional_training.csv\n",
    "dataset2 = pd.read_csv('/kaggle/input/brighton-a-memorable-city/additional_training.csv')\n",
    "# Extract the predictions of the images\n",
    "_y2 = dataset2['prediction']\n",
    "# Remove the ID and predictions \n",
    "_X2 = dataset2.iloc[:2219, 1:4609]\n",
    "\n",
    "## Defining a KNNImputer to fill in the empty slots in the data\n",
    "imputer = KNNImputer(n_neighbors=3, missing_values=np.nan)\n",
    "# Uses the imputer to fill nan data\n",
    "_X2 = imputer.fit_transform(_X2)\n",
    "# Convert back to DataFrame\n",
    "_X2 = pd.DataFrame(_X2)"
   ]
  },
  {
   "cell_type": "code",
   "execution_count": 10,
   "metadata": {},
   "outputs": [],
   "source": [
    "## Add training data and additional training data together into one\n",
    "# Numpy concatenation of all training images \n",
    "train = np.concatenate([_X,_X2])\n",
    "# Pandas concatenation of all training predictions\n",
    "preds = pd.concat([_y,_y2])"
   ]
  },
  {
   "cell_type": "code",
   "execution_count": 5,
   "metadata": {},
   "outputs": [],
   "source": [
    "## Testing data\n",
    "\n",
    "#Get the data from testing.csv\n",
    "dataset3 = pd.read_csv('/kaggle/input/brighton-a-memorable-city/testing.csv')\n",
    "# Get the ID number of all testing images for output\n",
    "ID = dataset3['ID']\n",
    "# Remove the ID column \n",
    "test = dataset3.iloc[:11874, 1:4609]"
   ]
  },
  {
   "cell_type": "code",
   "execution_count": 11,
   "metadata": {},
   "outputs": [
    {
     "data": {
      "text/plain": [
       "MLPClassifier(activation='relu', alpha=1e-05, batch_size='auto', beta_1=0.9,\n",
       "              beta_2=0.999, early_stopping=False, epsilon=1e-08,\n",
       "              hidden_layer_sizes=(100,), learning_rate='adaptive',\n",
       "              learning_rate_init=0.001, max_fun=15000, max_iter=200,\n",
       "              momentum=0.9, n_iter_no_change=10, nesterovs_momentum=True,\n",
       "              power_t=0.5, random_state=1, shuffle=True, solver='lbfgs',\n",
       "              tol=0.0001, validation_fraction=0.1, verbose=False,\n",
       "              warm_start=False)"
      ]
     },
     "execution_count": 11,
     "metadata": {},
     "output_type": "execute_result"
    }
   ],
   "source": [
    "from sklearn.neural_network import MLPClassifier\n",
    "\n",
    "## Create a new MLPClassifier to predict images\n",
    "clf = MLPClassifier(solver='lbfgs', alpha = 1e-5, learning_rate = 'adaptive', random_state = 1)\n",
    "##alpha = 3e-2\n",
    "## Train classifier on training and additional training images and predictions\n",
    "clf.fit(train,preds)"
   ]
  },
  {
   "cell_type": "code",
   "execution_count": 12,
   "metadata": {},
   "outputs": [
    {
     "name": "stdout",
     "output_type": "stream",
     "text": [
      "0 = 1208\n",
      "1 = 1761\n"
     ]
    }
   ],
   "source": [
    "## Predicts whether testing images are memorable or not\n",
    "results = clf.predict(test)\n",
    "\n",
    "# Count number of 0s and 1s for predicted data\n",
    "zero = 0\n",
    "one = 0\n",
    "for i in range(int((len(results)/4)+0.5)):\n",
    "    if(results[i] == 0):\n",
    "        zero = zero + 1\n",
    "    else:\n",
    "        one = one + 1\n",
    "\n",
    "print(\"0 = \" + str(zero))\n",
    "print(\"1 = \" + str(one))\n",
    "        "
   ]
  },
  {
   "cell_type": "code",
   "execution_count": 8,
   "metadata": {},
   "outputs": [],
   "source": [
    "## Outputs predictions into file\n",
    "sub = pd.DataFrame(zip(ID,results), columns = ['ID','Prediction'])\n",
    "sub.to_csv(\"./results2.csv\", index = False, header = True)"
   ]
  },
  {
   "cell_type": "code",
   "execution_count": null,
   "metadata": {},
   "outputs": [],
   "source": []
  }
 ],
 "metadata": {
  "kernelspec": {
   "display_name": "Python 3",
   "language": "python",
   "name": "python3"
  },
  "language_info": {
   "codemirror_mode": {
    "name": "ipython",
    "version": 3
   },
   "file_extension": ".py",
   "mimetype": "text/x-python",
   "name": "python",
   "nbconvert_exporter": "python",
   "pygments_lexer": "ipython3",
   "version": "3.7.9"
  }
 },
 "nbformat": 4,
 "nbformat_minor": 4
}
